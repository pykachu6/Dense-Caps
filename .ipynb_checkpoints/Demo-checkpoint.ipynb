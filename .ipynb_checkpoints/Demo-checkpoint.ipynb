{
 "cells": [
  {
   "cell_type": "code",
   "execution_count": 4,
   "id": "fb7b9627",
   "metadata": {},
   "outputs": [],
   "source": [
    "import crystpredict\n",
    "from crystpredict import predictor"
   ]
  },
  {
   "cell_type": "markdown",
   "id": "6b012952",
   "metadata": {},
   "source": [
    "#  Prediction of $Li_3Mn_4Co_3 $"
   ]
  },
  {
   "cell_type": "code",
   "execution_count": 20,
   "id": "77eaa2f3",
   "metadata": {},
   "outputs": [
    {
     "data": {
      "text/plain": [
       "{'Volume': 270.094,\n",
       " 'Nsites': 32.916,\n",
       " 'Formation Energy (eV)': -2.294,\n",
       " 'Band Gap (eV)': 0.695,\n",
       " 'Density (gm/cc)': 3.795,\n",
       " 'Crystal System': 'orthorhombic'}"
      ]
     },
     "metadata": {},
     "output_type": "display_data"
    }
   ],
   "source": [
    "Values, scores = predictor.value_finder(formula = 'Li3Mn4Co3')\n",
    "\n",
    "display(Values)"
   ]
  }
 ],
 "metadata": {
  "kernelspec": {
   "display_name": "Python 3 (ipykernel)",
   "language": "python",
   "name": "python3"
  },
  "language_info": {
   "codemirror_mode": {
    "name": "ipython",
    "version": 3
   },
   "file_extension": ".py",
   "mimetype": "text/x-python",
   "name": "python",
   "nbconvert_exporter": "python",
   "pygments_lexer": "ipython3",
   "version": "3.9.7"
  }
 },
 "nbformat": 4,
 "nbformat_minor": 5
}
