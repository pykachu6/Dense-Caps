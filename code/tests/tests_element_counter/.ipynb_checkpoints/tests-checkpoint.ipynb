{
 "cells": [
  {
   "cell_type": "markdown",
   "id": "33fc3d94",
   "metadata": {},
   "source": [
    "This notebook contains tests"
   ]
  },
  {
   "cell_type": "markdown",
   "id": "f1cb8d73",
   "metadata": {},
   "source": [
    "First will be testing Tysons element counter"
   ]
  },
  {
   "cell_type": "code",
   "execution_count": 128,
   "id": "57e3b31d",
   "metadata": {},
   "outputs": [
    {
     "name": "stdout",
     "output_type": "stream",
     "text": [
      "0         Li2MnSiO4\n",
      "1         Li2MnSiO4\n",
      "2        Li4MnSi2O7\n",
      "3      Li4Mn2Si3O10\n",
      "4      Li2Mn3Si3O10\n",
      "5        Li4MnSi2O7\n",
      "6          LiMnSiO4\n",
      "7         Li2MnSiO4\n",
      "8       LiMn(SiO3)2\n",
      "9      Li2Mn(SiO3)2\n",
      "10        Li2MnSiO4\n",
      "11     Li2Mn(SiO3)2\n",
      "12      Li2Mn2Si2O7\n",
      "13    Li10Mn(SiO5)2\n",
      "14       Li3MnSi2O7\n",
      "15     Li5Mn(SiO4)2\n",
      "16    Li2Mn(Si2O5)2\n",
      "17     Li2Mn2Si3O10\n",
      "18    Li2Mn2(SiO3)3\n",
      "19      LiMn(SiO3)2\n",
      "20       Li2MnSi3O8\n",
      "21    Li3Mn2(SiO4)2\n",
      "22     Li4Mn(SiO3)3\n",
      "23       Li2MnSi3O8\n",
      "24     Li2Mn(SiO3)2\n",
      "25       LiMn2Si2O7\n",
      "26    Li3Mn2(SiO4)2\n",
      "27    Li3Mn2(SiO4)2\n",
      "28         LiMnSiO4\n",
      "29       Li3Mn3SiO8\n",
      "30    Li3Mn2(SiO4)2\n",
      "31    Li3Mn2(SiO4)2\n",
      "32      Li2MnSi4O11\n",
      "33     Li5Mn(SiO3)4\n",
      "34    Li3Mn2(SiO4)2\n",
      "35    Li7Mn3(SiO6)2\n",
      "36      LiFe(SiO3)2\n",
      "37      LiFe(SiO3)2\n",
      "38        Li2FeSiO4\n",
      "39        Li2FeSiO4\n",
      "40        Li2FeSiO4\n",
      "41     LiFe(Si2O5)2\n",
      "42       Li4FeSi2O7\n",
      "43         LiFeSiO4\n",
      "44         LiFeSiO4\n",
      "45         LiFeSiO4\n",
      "46     Li5Fe(SiO4)2\n",
      "47       Li4FeSi2O7\n",
      "48         LiFeSiO4\n",
      "49     Li4Fe2Si3O10\n",
      "Name: Formula, dtype: object\n"
     ]
    }
   ],
   "source": [
    "import pandas as pd\n",
    "\n",
    "df = pd.read_csv ('lithium-ion batteries.csv')\n",
    "print (df['Formula'][0:50])"
   ]
  },
  {
   "cell_type": "code",
   "execution_count": 129,
   "id": "63fcdadd",
   "metadata": {},
   "outputs": [],
   "source": [
    "################################################################################\n",
    "\n",
    "element_list= ['Li', 'Si', 'Mn', 'Fe', 'O', 'Co']\n",
    "\n",
    "################################################################################\n",
    "\n",
    "def get_occ_indices(str_to_search, str_target):\n",
    "    occ_index_list =[]\n",
    "    for index in range(len(str_to_search)):\n",
    "        #print(str_to_search[index:index + len(str_target)])\n",
    "        if str_to_search[index:index + len(str_target)] == str_target:\n",
    "            occ_index_list.append(index)\n",
    "        else:\n",
    "            pass\n",
    "    return occ_index_list\n",
    "\n",
    "################################################################################\n"
   ]
  },
  {
   "cell_type": "code",
   "execution_count": 130,
   "id": "3622d44f",
   "metadata": {},
   "outputs": [
    {
     "data": {
      "text/plain": [
       "[9]"
      ]
     },
     "execution_count": 130,
     "metadata": {},
     "output_type": "execute_result"
    }
   ],
   "source": [
    "#write test to check placement of some formula names to see if function is reading correctly\n",
    "formula = 'Li4Fe2Si3O10'\n",
    "get_occ_indices(formula, 'O')"
   ]
  },
  {
   "cell_type": "code",
   "execution_count": 131,
   "id": "5f5f7cea",
   "metadata": {},
   "outputs": [],
   "source": [
    "def test_get_occ_indices():\n",
    "    \n",
    "    #Testing that we get the expected indices for some input formula 'Li4Mn2Si3O10'\n",
    "    assert get_occ_indices('Li4Mn2Si3O10', 'Li' )[0] == 0 , \"Lithium is not where it is expected in the formula\"\n",
    "    assert get_occ_indices('Li4Mn2Si3O10', 'Mn' )[0] == 3 , \"Manganese is not where it is expected in the formula\"\n",
    "    assert get_occ_indices('Li4Mn2Si3O10', 'Si')[0] == 6 , \"Silicon is not where it is expected in the formula\"\n",
    "    assert get_occ_indices('Li4Mn2Si3O10', 'O')[0] == 9 , \"Oxygen is not where it is expected in the formula\"\n",
    "\n",
    "    #Testing that we get the expected indices for some input formula 'Li4Fe2Si3O10'\n",
    "    assert get_occ_indices('Li4Fe2Si3O10', 'Li' )[0] == 0 , \"Lithium is not where it is expected in the formula\"\n",
    "    assert get_occ_indices('Li4Fe2Si3O10', 'Fe' )[0] == 3 , \"Manganese is not where it is expected in the formula\"\n",
    "    assert get_occ_indices('Li4Fe2Si3O10', 'Si')[0] == 6 , \"Silicon is not where it is expected in the formula\"\n",
    "    assert get_occ_indices('Li4Fe2Si3O10', 'O')[0] == 9 , \"Oxygen is not where it is expected in the formula\"    \n",
    "    \n",
    "    \n",
    "    #Testing the output types of the function\n",
    "    assert isinstance('Li4Mn2Si3O10', str) , 'The input of the funciton is not a string'\n",
    "    assert isinstance(get_occ_indices('Li4Mn2Si3O10', 'Li' ), list) , 'The output of get_occ_indices() is not a list'\n",
    "    \n",
    "    \n",
    "    #Testing to make sure odd ball elements are not in the input formulas\n",
    "    assert 'U' not in 'Li4Mn2Si3O10' , 'Unexpected element in the input'\n",
    "    assert 'P' not in 'Li4Mn2Si3O10' , 'Unexpected element in the input'\n",
    "    assert 'Pb' not in 'Li4Mn2Si3O10' , 'Unexpected element in the input'\n",
    "    assert 'V' not in 'Li4Mn2Si3O10' , 'Unexpected element in the input'\n",
    "\n",
    "   \n",
    "    \n",
    "test_get_occ_indices()"
   ]
  },
  {
   "cell_type": "code",
   "execution_count": 132,
   "id": "76d70057",
   "metadata": {},
   "outputs": [],
   "source": [
    "def get_parentheses(string_with_parentheses):\n",
    "    parentheses_index_list ={}\n",
    "    for o_index in range(len(string_with_parentheses)):\n",
    "        if string_with_parentheses[o_index] == '(':\n",
    "            \n",
    "            \n",
    "            for c_index in range(o_index,len(string_with_parentheses)):\n",
    "                #print(c_index)\n",
    "                \n",
    "                if string_with_parentheses[c_index] == ')':\n",
    "                    #print(c_index)\n",
    "                    \n",
    "                    parentheses_index_list[o_index] = c_index\n",
    "                    break\n",
    "            \n",
    "            \n",
    "            \n",
    "        else:\n",
    "            pass\n",
    "    return parentheses_index_list\n",
    "\n",
    "################################################################################\n"
   ]
  },
  {
   "cell_type": "code",
   "execution_count": 133,
   "id": "fecece98",
   "metadata": {},
   "outputs": [
    {
     "data": {
      "text/plain": [
       "0"
      ]
     },
     "execution_count": 133,
     "metadata": {},
     "output_type": "execute_result"
    }
   ],
   "source": [
    "len(get_parentheses('Li4Mn2Si3O10'))"
   ]
  },
  {
   "cell_type": "code",
   "execution_count": 134,
   "id": "ef44448b",
   "metadata": {},
   "outputs": [],
   "source": [
    "def test_get_parentheses():\n",
    "    \n",
    "    assert isinstance(get_parentheses('Li7Mn3(SiO6)2'), dict) , 'The output of get_parentheses() is not a string'\n",
    "    assert isinstance(get_parentheses('LiFe(Si2O5)2'), dict) , 'The output of get_parentheses() is not a string'\n",
    "    assert len(get_parentheses('LiFe(Si2O5)2')) == 1 , 'Unexpected output length'\n",
    "    assert len(get_parentheses('Li4Mn2Si3O10')) == 0 , \"There is an unexpected parenthesis in this group\"\n",
    "    \n",
    "    \n",
    "    \n",
    "test_get_parentheses()"
   ]
  },
  {
   "cell_type": "code",
   "execution_count": 135,
   "id": "e5207085",
   "metadata": {},
   "outputs": [],
   "source": [
    "\n",
    "def simple_count_in_instance(instance_index, string, element):\n",
    "    counter = 0 \n",
    "    try:\n",
    "        #print(string[instance_index +len(element)])\n",
    "        if string[instance_index +len(element)].isdigit() == False:\n",
    "            counter += 1\n",
    "        elif string[instance_index +len(element)].isdigit() == True:\n",
    "            try:\n",
    "                if string[instance_index +len(element)+1].isdigit() == False:\n",
    "                    counter += int(string[instance_index +len(element)])\n",
    "                elif string[instance_index +len(element)+1].isdigit() == True:\n",
    "                    counter += int(string[instance_index+len(element):instance_index+len(element)+2])\n",
    "            except IndexError:\n",
    "                counter += int(string[instance_index +len(element)])\n",
    "\n",
    "    except IndexError:\n",
    "        counter += 1\n",
    "    return counter\n",
    "\n",
    "################################################################################\n"
   ]
  },
  {
   "cell_type": "code",
   "execution_count": 136,
   "id": "f9c29cec",
   "metadata": {},
   "outputs": [],
   "source": [
    "    \n",
    "def element_count(formula_string):\n",
    "    parenthetical = get_parentheses(formula_string)\n",
    "    \n",
    "    ele_count = {}\n",
    "    for elements in element_list:\n",
    "        \n",
    "        num_ele_n = 0\n",
    "        occurences = get_occ_indices(formula_string, elements)\n",
    "        for instance in occurences:\n",
    "            coeff = 1\n",
    "            inparentheses = False\n",
    "            \n",
    "            close_index = 0\n",
    "            for open_par in parenthetical:\n",
    "               \n",
    "                \n",
    "                if open_par < instance < parenthetical[open_par]:\n",
    "                    inparentheses = True\n",
    "                   \n",
    "                    close_index = parenthetical[open_par]\n",
    "                    \n",
    "                    \n",
    "                    \n",
    "                    \n",
    "                    \n",
    "                else:\n",
    "                    pass\n",
    "                \n",
    "            if inparentheses == False:\n",
    "                pass\n",
    "              \n",
    "                \n",
    "            else:\n",
    "\n",
    "\n",
    "                try:\n",
    "                    \n",
    "                   \n",
    "                    if formula_string[close_index + 1].isdigit() == True:\n",
    "                        \n",
    "                        \n",
    "                        try:\n",
    "                        \n",
    "                            if formula_string[close_index + 2].isdigit() == True:\n",
    "                                coeff = int(formula_string[close_index + 1:close_index + 3])\n",
    "                               \n",
    "                            else:\n",
    "                                coeff = int(formula_string[close_index + 1])\n",
    "                                \n",
    "                        except IndexError:\n",
    "                            coeff = int(formula_string[close_index + 1])\n",
    "                       \n",
    "                    else:\n",
    "                        coeff = 1\n",
    "                        \n",
    "                except IndexError:\n",
    "                    coeff = 1\n",
    "                \n",
    "               \n",
    "            num_ele_n += simple_count_in_instance(instance, formula_string, elements)*coeff\n",
    "            \n",
    "                  \n",
    "                    \n",
    "        ele_count[elements] = num_ele_n\n",
    "    return ele_count\n",
    "\n",
    "\n",
    "################################################################################"
   ]
  },
  {
   "cell_type": "code",
   "execution_count": 139,
   "id": "a6308dd2",
   "metadata": {},
   "outputs": [
    {
     "data": {
      "text/plain": [
       "dict"
      ]
     },
     "execution_count": 139,
     "metadata": {},
     "output_type": "execute_result"
    }
   ],
   "source": [
    "element_count('Li4Mn2Si3O10')"
   ]
  },
  {
   "cell_type": "code",
   "execution_count": 193,
   "id": "52fc0968",
   "metadata": {
    "scrolled": true
   },
   "outputs": [],
   "source": [
    "def test_element_count():\n",
    "    \n",
    "    element_list= ['Li', 'Si', 'Mn', 'Fe', 'O', 'Co']\n",
    "    \n",
    "    #Test entire type of element_count\n",
    "    assert isinstance(element_count('Li7Mn3(SiO6)2'), dict) , 'The returned type is not a dictionary'\n",
    "    \n",
    "    #test correct and all elements are returned in the dictionary\n",
    "    assert all(k in element_count('Li7Mn3(SiO6)2') for k in element_list), 'Unexpected element in formula'\n",
    "    \n",
    "    \n",
    "    #testing each value of the dictionary is an interget\n",
    "    dict_ = element_count('Li7Mn3(SiO6)2')\n",
    "    sum_ = []\n",
    "    list_ = []\n",
    "    \n",
    "    #This for loop tests the keys of the dictionary\n",
    "    for key in dict_.items() :\n",
    "    \n",
    "      \n",
    "        list_.append(key[0])\n",
    "\n",
    "    assert all(isinstance(n, str) for n in list_),'The keys in the dictionary are not strings'  \n",
    "    \n",
    "    #The following for loop seperates out the values in the dictionary and tests them\n",
    "    \n",
    "    for k in dict_:\n",
    "        \n",
    "        #Test sum of the values in dictionary to make sure number of atoms in formula is correct\n",
    "        sum_.append(dict_.get(k))\n",
    "        \n",
    "        #Test each value type in dictionary is not float\n",
    "        assert type(dict_.get(k)) is not float , 'The value in the dictionary is a float'\n",
    "        \n",
    "        #Test each value type in dictionary is not string\n",
    "        assert type(dict_.get(k)) is not str , 'The value in the dictionary is a string'\n",
    "        \n",
    "        #Test each value type in dictionary is not a list\n",
    "        assert type(dict_.get(k)) is not list , 'The value in the dictionary is a list'\n",
    "\n",
    "\n",
    "        #Test each value type in dictionary is an interger\n",
    "        assert type(dict_.get(k)) is int , 'The value is not an interger'\n",
    "    \n",
    "    \n",
    "    assert sum(sum_)== 24, 'Incorrect numbers of atoms in material formula'\n",
    "    \n",
    "    \n",
    "    #test total number of elements\n",
    "test_element_count()"
   ]
  },
  {
   "cell_type": "markdown",
   "id": "c1e2d928",
   "metadata": {},
   "source": [
    "assert if the value of each key is correct (int)\n",
    "\n",
    "make a list that takes the value of each key \n",
    "\n",
    "cheks if each value is an interger"
   ]
  },
  {
   "cell_type": "code",
   "execution_count": null,
   "id": "5601fda6",
   "metadata": {},
   "outputs": [],
   "source": []
  }
 ],
 "metadata": {
  "kernelspec": {
   "display_name": "Python 3 (ipykernel)",
   "language": "python",
   "name": "python3"
  },
  "language_info": {
   "codemirror_mode": {
    "name": "ipython",
    "version": 3
   },
   "file_extension": ".py",
   "mimetype": "text/x-python",
   "name": "python",
   "nbconvert_exporter": "python",
   "pygments_lexer": "ipython3",
   "version": "3.9.7"
  }
 },
 "nbformat": 4,
 "nbformat_minor": 5
}
