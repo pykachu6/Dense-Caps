{
 "cells": [
  {
   "cell_type": "code",
   "execution_count": 1,
   "id": "141911dd",
   "metadata": {},
   "outputs": [],
   "source": [
    "import cryst_predict\n",
    "import tests_score_finder"
   ]
  },
  {
   "cell_type": "code",
   "execution_count": 2,
   "id": "636f4b54",
   "metadata": {},
   "outputs": [],
   "source": [
    "import "
   ]
  },
  {
   "cell_type": "code",
   "execution_count": 5,
   "id": "2a494f03",
   "metadata": {},
   "outputs": [
    {
     "name": "stdout",
     "output_type": "stream",
     "text": [
      "0\n",
      "1\n",
      "2\n",
      "3\n",
      "4\n",
      "5\n",
      "Density (gm/cc)\n",
      "0.238\n",
      "Volume\n",
      "0.16\n",
      "Band Gap (eV)\n",
      "0.514\n",
      "Formation Energy (eV)\n",
      "0.877\n",
      "Nsites\n",
      "0.127\n",
      "Crystal System\n",
      "0.535\n",
      "0\n",
      "1\n",
      "2\n",
      "3\n",
      "4\n",
      "Nsites\n",
      "0.119\n",
      "Density (gm/cc)\n",
      "0.238\n",
      "Volume\n",
      "0.172\n",
      "Band Gap (eV)\n",
      "0.557\n",
      "Crystal System\n",
      "0.543\n",
      "0\n",
      "1\n",
      "2\n",
      "3\n",
      "Nsites\n",
      "0.126\n",
      "Density (gm/cc)\n",
      "0.329\n",
      "Volume\n",
      "0.127\n",
      "Crystal System\n",
      "0.546\n",
      "0\n",
      "1\n",
      "2\n",
      "Nsites\n",
      "0.955\n",
      "Density (gm/cc)\n",
      "0.424\n",
      "Crystal System\n",
      "0.62\n",
      "0\n",
      "1\n",
      "Density (gm/cc)\n",
      "0.513\n",
      "Crystal System\n",
      "0.638\n",
      "0\n",
      "Crystal System\n",
      "0.642\n"
     ]
    }
   ],
   "source": [
    "tests_score_finder.score_finder_tests()"
   ]
  },
  {
   "cell_type": "code",
   "execution_count": null,
   "id": "02d16eef",
   "metadata": {},
   "outputs": [],
   "source": []
  }
 ],
 "metadata": {
  "kernelspec": {
   "display_name": "Python 3 (ipykernel)",
   "language": "python",
   "name": "python3"
  },
  "language_info": {
   "codemirror_mode": {
    "name": "ipython",
    "version": 3
   },
   "file_extension": ".py",
   "mimetype": "text/x-python",
   "name": "python",
   "nbconvert_exporter": "python",
   "pygments_lexer": "ipython3",
   "version": "3.9.7"
  }
 },
 "nbformat": 4,
 "nbformat_minor": 5
}
