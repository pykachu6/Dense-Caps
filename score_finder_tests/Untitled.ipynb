{
 "cells": [
  {
   "cell_type": "code",
   "execution_count": 1,
   "id": "065816b6",
   "metadata": {},
   "outputs": [],
   "source": [
    "\n",
    "import tests_score_finder"
   ]
  },
  {
   "cell_type": "code",
   "execution_count": 2,
   "id": "135093be",
   "metadata": {},
   "outputs": [
    {
     "name": "stdout",
     "output_type": "stream",
     "text": [
      "0\n",
      "1\n",
      "2\n",
      "3\n",
      "4\n",
      "5\n",
      "Density (gm/cc)\n",
      "0.272\n",
      "Formation Energy (eV)\n",
      "0.878\n",
      "Volume\n",
      "0.172\n",
      "Nsites\n",
      "0.13\n",
      "Band Gap (eV)\n",
      "0.533\n",
      "Crystal System\n",
      "0.528\n",
      "0\n",
      "1\n",
      "2\n",
      "3\n",
      "4\n",
      "Nsites\n",
      "0.12\n",
      "Band Gap (eV)\n",
      "0.556\n",
      "Density (gm/cc)\n",
      "0.196\n",
      "Volume\n",
      "0.105\n",
      "Crystal System\n",
      "0.52\n",
      "0\n",
      "1\n",
      "2\n",
      "3\n",
      "Nsites\n",
      "0.119\n",
      "Density (gm/cc)\n",
      "0.336\n",
      "Volume\n",
      "0.133\n",
      "Crystal System\n",
      "0.554\n",
      "0\n",
      "1\n",
      "2\n",
      "Nsites\n",
      "0.958\n",
      "Density (gm/cc)\n",
      "0.412\n",
      "Crystal System\n",
      "0.622\n",
      "0\n",
      "1\n",
      "Density (gm/cc)\n",
      "0.488\n",
      "Crystal System\n",
      "0.631\n",
      "0\n",
      "Crystal System\n",
      "0.628\n"
     ]
    }
   ],
   "source": [
    "tests_score_finder.score_finder_tests()"
   ]
  },
  {
   "cell_type": "code",
   "execution_count": null,
   "id": "a1c30c97",
   "metadata": {},
   "outputs": [],
   "source": []
  }
 ],
 "metadata": {
  "kernelspec": {
   "display_name": "Python 3 (ipykernel)",
   "language": "python",
   "name": "python3"
  },
  "language_info": {
   "codemirror_mode": {
    "name": "ipython",
    "version": 3
   },
   "file_extension": ".py",
   "mimetype": "text/x-python",
   "name": "python",
   "nbconvert_exporter": "python",
   "pygments_lexer": "ipython3",
   "version": "3.9.7"
  }
 },
 "nbformat": 4,
 "nbformat_minor": 5
}
